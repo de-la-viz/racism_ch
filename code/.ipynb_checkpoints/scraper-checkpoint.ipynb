{
 "cells": [
  {
   "cell_type": "markdown",
   "metadata": {},
   "source": [
    "# Scraper\n"
   ]
  },
  {
   "cell_type": "code",
   "execution_count": 2,
   "metadata": {},
   "outputs": [
    {
     "name": "stdout",
     "output_type": "stream",
     "text": [
      "Done!\n"
     ]
    }
   ],
   "source": [
    "# Importing in each cell because need to restart kernel\n",
    "import scrapy # version 2.2.0\n",
    "from scrapy.crawler import CrawlerProcess\n",
    "\n",
    "\n",
    "class CFRSpider(scrapy.Spider):\n",
    "    name = \"CFR\" # Naming the spider if you  running more than one spider of this class simultaneously.\n",
    "\n",
    "    # URL(s) to start with.\n",
    "    start_urls = [\n",
    "        'https://www.ekr.admin.ch/f524/2018-037N.html#2018-037N',\n",
    "        'https://www.ekr.admin.ch/f524/2018-036N.html#2018-036N',\n",
    "    ]\n",
    "\n",
    "    # What to do with the URL. \n",
    "    def parse(self, response):\n",
    "        \n",
    "        # Yield a dictionary with the values we want.\n",
    "        yield {\n",
    "            \n",
    "            'case': response.xpath('body/div/div[2]/div/div/div/div/div/p/text()').extract_first(),\n",
    "            'name': response.xpath('body/div/div[2]/div/div/div/div/div/h2/text()').extract_first(),\n",
    "            'location': response.xpath('body/div/div[2]/div/div/div/div/div/p[2]/text()').extract_first(),\n",
    "            \n",
    "            # procedure history | Historique de la procédure | Verfahrensgeschichte | Cronistoria della procedura\n",
    "            'year': response.xpath('body/div/div[2]/div/div/div/div/div/table[1]/tr/td/text()').extract()[0],\n",
    "            'link': response.xpath('body/div/div[2]/div/div/div/div/div/table[1]/tr/td[2]/span/a/@href').extract_first(),\n",
    "            'history': response.xpath('string(body/div/div[2]/div/div/div/div/div/table[1]/tr/td[3])').extract_first(),\n",
    "            \n",
    "            # keywords | Mots-clés | Stichwörter | Parole chiave\n",
    "            'authors': response.xpath('string(body/div/div[2]/div/div/div/div/div/table[3]/tr[1]/td[2])').extract_first(),\n",
    "            'victims': response.xpath('string(body/div/div[2]/div/div/div/div/div/table[3]/tr[2]/td[2])').extract_first(),\n",
    "            'means': response.xpath('string(body/div/div[2]/div/div/div/div/div/table[3]/tr[3]/td[2])').extract_first(),\n",
    "            'social_env': response.xpath('string(body/div/div[2]/div/div/div/div/div/table[3]/tr[4]/td[2])').extract_first(),\n",
    "            'ideology': response.xpath('string(body/div/div[2]/div/div/div/div/div/table[3]/tr[5]/td[2])').extract_first(),\n",
    "            \n",
    "            # not sure yet what is the best for the text...\n",
    "            # there is no new div, so it is not possible to distinguish it from the table above in the hierarchy\n",
    "            # usually there are 2 elements: \"Synthèse\" and \"Dècision\", but sometimes more.\n",
    "            # we will try to get them separately, both title h3 and text p,\n",
    "            # with the idea to do some Pandas magic after\n",
    "            # we think that there are no more than 5 titles, let's start with 6 to be sure\n",
    "            'title_1': response.xpath('body/div/div[2]/div/div/div/div/div/h3[1]/text()').extract_first(),\n",
    "            'title_2': response.xpath('body/div/div[2]/div/div/div/div/div/h3[2]/text()').extract_first(),\n",
    "            'title_3': response.xpath('body/div/div[2]/div/div/div/div/div/h3[3]/text()').extract_first(),\n",
    "            'title_4': response.xpath('body/div/div[2]/div/div/div/div/div/h3[4]/text()').extract_first(),\n",
    "            'title_5': response.xpath('body/div/div[2]/div/div/div/div/div/h3[5]/text()').extract_first(),\n",
    "            'title_6': response.xpath('body/div/div[2]/div/div/div/div/div/h3[6]/text()').extract_first()\n",
    "            # start at p[3], because the 2 first p are case and location\n",
    "            'text_1': response.xpath('string(body/div/div[2]/div/div/div/div/div/p[3])').extract_first(),\n",
    "            'text_2': response.xpath('string(body/div/div[2]/div/div/div/div/div/p[4])').extract_first(),\n",
    "            'text_3': response.xpath('string(body/div/div[2]/div/div/div/div/div/p[5])').extract_first(),\n",
    "            'text_4': response.xpath('string(body/div/div[2]/div/div/div/div/div/p[6])').extract_first(),\n",
    "            'text_5': response.xpath('string(body/div/div[2]/div/div/div/div/div/p[7])').extract_first(),\n",
    "            'text_6': response.xpath('string(body/div/div[2]/div/div/div/div/div/p[8])').extract_first()\n",
    "        }\n",
    "            \n",
    "        page = response.url.split(\"/\")[-1]\n",
    "#         filename = 'case_%s' % page\n",
    "#         with open(filename, 'wb') as f:\n",
    "#             f.write(response.body)\n",
    "#         self.log('Saved file %s' % filename)\n",
    "        \n",
    "# Instantiate our crawler.\n",
    "process = CrawlerProcess({\n",
    "    'FEED_FORMAT': 'json',         # Store data in JSON format.\n",
    "    'FEED_URI': 'test.json',       # Name our storage file.\n",
    "    'LOG_ENABLED': False           # Turn off logging for now.\n",
    "})\n",
    "\n",
    "# Start the crawler with our spider.\n",
    "process.crawl(CFRSpider)\n",
    "process.start()\n",
    "print(\"Done!\")"
   ]
  },
  {
   "cell_type": "code",
   "execution_count": 3,
   "metadata": {},
   "outputs": [
    {
     "name": "stdout",
     "output_type": "stream",
     "text": [
      "(2, 17)\n"
     ]
    },
    {
     "data": {
      "text/html": [
       "<div>\n",
       "<style scoped>\n",
       "    .dataframe tbody tr th:only-of-type {\n",
       "        vertical-align: middle;\n",
       "    }\n",
       "\n",
       "    .dataframe tbody tr th {\n",
       "        vertical-align: top;\n",
       "    }\n",
       "\n",
       "    .dataframe thead th {\n",
       "        text-align: right;\n",
       "    }\n",
       "</style>\n",
       "<table border=\"1\" class=\"dataframe\">\n",
       "  <thead>\n",
       "    <tr style=\"text-align: right;\">\n",
       "      <th></th>\n",
       "      <th>case</th>\n",
       "      <th>name</th>\n",
       "      <th>location</th>\n",
       "      <th>year</th>\n",
       "      <th>link</th>\n",
       "      <th>history</th>\n",
       "      <th>authors</th>\n",
       "      <th>victims</th>\n",
       "      <th>means</th>\n",
       "      <th>social_env</th>\n",
       "      <th>ideology</th>\n",
       "      <th>title_1</th>\n",
       "      <th>title_2</th>\n",
       "      <th>title_3</th>\n",
       "      <th>title_4</th>\n",
       "      <th>title_5</th>\n",
       "      <th>title_6</th>\n",
       "    </tr>\n",
       "  </thead>\n",
       "  <tbody>\n",
       "    <tr>\n",
       "      <th>0</th>\n",
       "      <td>Cas 2018-036N</td>\n",
       "      <td>Empfehlung einer Untersuchung beim Joseph Mengele</td>\n",
       "      <td>Zurich</td>\n",
       "      <td>2018</td>\n",
       "      <td>/f524/2018-036N.html#2018-036N</td>\n",
       "      <td>Die zuständige Strafverfolgungsbehörde verfügt...</td>\n",
       "      <td>Particuliers</td>\n",
       "      <td>Aucune indication sur la victime</td>\n",
       "      <td>Ecrits;\\nCommunication électronique</td>\n",
       "      <td>Mass media (Internet inclus);\\nMédias sociaux</td>\n",
       "      <td>Antisémitisme</td>\n",
       "      <td>Synthèse</td>\n",
       "      <td>Décision</td>\n",
       "      <td>NaN</td>\n",
       "      <td>NaN</td>\n",
       "      <td>NaN</td>\n",
       "      <td>NaN</td>\n",
       "    </tr>\n",
       "    <tr>\n",
       "      <th>1</th>\n",
       "      <td>Cas 2018-037N</td>\n",
       "      <td>Tatbestand unbekannt</td>\n",
       "      <td>Bâle-Ville</td>\n",
       "      <td>2018</td>\n",
       "      <td>/f524/2018-037N.html#2018-037N</td>\n",
       "      <td>Der Beschuldigte wird der Rassendiskriminierun...</td>\n",
       "      <td>Aucune indication sur l'auteur</td>\n",
       "      <td>Aucune indication sur la victime</td>\n",
       "      <td>Aucune indication sur les moyens utilisés</td>\n",
       "      <td>Aucune indication sur l'environnement social</td>\n",
       "      <td>Aucune indication sur l'idéologie</td>\n",
       "      <td>Synthèse</td>\n",
       "      <td>Décision</td>\n",
       "      <td>NaN</td>\n",
       "      <td>NaN</td>\n",
       "      <td>NaN</td>\n",
       "      <td>NaN</td>\n",
       "    </tr>\n",
       "  </tbody>\n",
       "</table>\n",
       "</div>"
      ],
      "text/plain": [
       "            case                                               name  \\\n",
       "0  Cas 2018-036N  Empfehlung einer Untersuchung beim Joseph Mengele   \n",
       "1  Cas 2018-037N                               Tatbestand unbekannt   \n",
       "\n",
       "     location  year                            link  \\\n",
       "0      Zurich  2018  /f524/2018-036N.html#2018-036N   \n",
       "1  Bâle-Ville  2018  /f524/2018-037N.html#2018-037N   \n",
       "\n",
       "                                             history  \\\n",
       "0  Die zuständige Strafverfolgungsbehörde verfügt...   \n",
       "1  Der Beschuldigte wird der Rassendiskriminierun...   \n",
       "\n",
       "                          authors                           victims  \\\n",
       "0                    Particuliers  Aucune indication sur la victime   \n",
       "1  Aucune indication sur l'auteur  Aucune indication sur la victime   \n",
       "\n",
       "                                       means  \\\n",
       "0        Ecrits;\\nCommunication électronique   \n",
       "1  Aucune indication sur les moyens utilisés   \n",
       "\n",
       "                                      social_env  \\\n",
       "0  Mass media (Internet inclus);\\nMédias sociaux   \n",
       "1   Aucune indication sur l'environnement social   \n",
       "\n",
       "                            ideology   title_1   title_2  title_3  title_4  \\\n",
       "0                      Antisémitisme  Synthèse  Décision      NaN      NaN   \n",
       "1  Aucune indication sur l'idéologie  Synthèse  Décision      NaN      NaN   \n",
       "\n",
       "   title_5  title_6  \n",
       "0      NaN      NaN  \n",
       "1      NaN      NaN  "
      ]
     },
     "execution_count": 3,
     "metadata": {},
     "output_type": "execute_result"
    }
   ],
   "source": [
    "import pandas as pd\n",
    "\n",
    "test = pd.read_json('test.json', orient='records')\n",
    "print(test.shape)\n",
    "test.head()"
   ]
  },
  {
   "cell_type": "code",
   "execution_count": 5,
   "metadata": {},
   "outputs": [
    {
     "data": {
      "text/plain": [
       "'Die zuständige Strafverfolgungsbehörde verfügt eine Nichtanhandnahme.'"
      ]
     },
     "execution_count": 5,
     "metadata": {},
     "output_type": "execute_result"
    }
   ],
   "source": [
    "test.history[0]\n"
   ]
  },
  {
   "cell_type": "code",
   "execution_count": null,
   "metadata": {},
   "outputs": [],
   "source": []
  }
 ],
 "metadata": {
  "kernelspec": {
   "display_name": "Python 3",
   "language": "python",
   "name": "python3"
  },
  "language_info": {
   "codemirror_mode": {
    "name": "ipython",
    "version": 3
   },
   "file_extension": ".py",
   "mimetype": "text/x-python",
   "name": "python",
   "nbconvert_exporter": "python",
   "pygments_lexer": "ipython3",
   "version": "3.7.7"
  }
 },
 "nbformat": 4,
 "nbformat_minor": 4
}
